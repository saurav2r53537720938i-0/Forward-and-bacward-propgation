{
 "cells": [
  {
   "cell_type": "markdown",
   "id": "e5d3e5be-f511-4465-ae12-421eb8dd36a6",
   "metadata": {},
   "source": [
    "The purpose of forward propgation in a neural network is to pass input data through the neural network applying weight the applying weight the productive elivating the neural network the predctions based on the network"
   ]
  },
  {
   "cell_type": "markdown",
   "id": "797cc43b-e990-45d5-b7cc-2fd317d7c9c4",
   "metadata": {},
   "source": [
    "In a single-layer feedforward neural network forward propgation is implmented matmetically as follows:\n",
    "1. Input Layer\n",
    "2. Weighted sum\n",
    "3. Activation Function\n",
    "4. output\n",
    "Common actviation functions include sigmoid tanh relu and softmax depending on the problem at hand"
   ]
  },
  {
   "cell_type": "markdown",
   "id": "5e754fef-507b-4b68-8afb-15f0f567903d",
   "metadata": {},
   "source": [
    "Activation function are used during forward propgation to introduce non-linearity into the output of each neuron in a neural network to model complex relationship between inputs and outputs:\n",
    "1. Weighted Sum Calculation\n",
    "2. Activation\n",
    "3. Non-linearity\n",
    "Diffrent activation functions have diffrent properties and are suitable for diffrent types of problembs common activation function include sigmoid tanh relu and softmax.Each has its own charcter such as being boundeed vanishing or suitable for classfication tasks"
   ]
  },
  {
   "cell_type": "markdown",
   "id": "e88a01e7-b35f-4af8-91e9-360abebf2271",
   "metadata": {},
   "source": [
    "In forward propgation weight and biases play essential roles in transforming input data into meaningful output predction through the layer of a neural network:\n",
    "1. Weight: weight reprsent the strength of connection between neurons in diffrent layers of the network during forward propgation input data is multiplied by corresponding weightdetrmining the importance of each input features of the network predctions\n",
    "2. Bias : bias term allow neural networks to model relationship even when relationship even when all input features are zero.\n",
    "In summary weight and baised through control how information flows through the neural network during forward propgation influencing the network ablity to make accurate predctions and learn from the data"
   ]
  },
  {
   "cell_type": "markdown",
   "id": "3d24a06a-a0b5-4b01-ad8e-5a37eb46da4e",
   "metadata": {},
   "source": [
    "Backwardpropgation is used to update the weight of a neural network by calculating the acnlodgement function helps parameters helps between during the traning in simplers terms it is rhe mechanism through which is neural networks learnsfrom its mistakes and adjust its paramters according to improve its performance"
   ]
  },
  {
   "cell_type": "markdown",
   "id": "bf4c0a83-a785-4c3f-a6a3-1d2376bc5646",
   "metadata": {},
   "source": [
    "In a single-layer feed forward neural network bacward propgation involves calculating the gradient of the loss function with repect to the weight and baised of the network"
   ]
  }
 ],
 "metadata": {
  "kernelspec": {
   "display_name": "Python 3 (ipykernel)",
   "language": "python",
   "name": "python3"
  },
  "language_info": {
   "codemirror_mode": {
    "name": "ipython",
    "version": 3
   },
   "file_extension": ".py",
   "mimetype": "text/x-python",
   "name": "python",
   "nbconvert_exporter": "python",
   "pygments_lexer": "ipython3",
   "version": "3.10.8"
  }
 },
 "nbformat": 4,
 "nbformat_minor": 5
}
